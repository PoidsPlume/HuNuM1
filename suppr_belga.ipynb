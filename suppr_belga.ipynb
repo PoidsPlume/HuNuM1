{
 "cells": [
  {
   "cell_type": "code",
   "execution_count": 1,
   "id": "1d9034c4-4a82-4c42-86c8-08842ea7063e",
   "metadata": {},
   "outputs": [],
   "source": [
    "import os\n",
    "import re\n",
    "from termcolor import colored"
   ]
  },
  {
   "cell_type": "code",
   "execution_count": 2,
   "id": "3264175c-9dbf-4df9-8d6a-e8e68675d96e",
   "metadata": {},
   "outputs": [],
   "source": [
    "def clean_belga(directory):\n",
    "    txt_files = os.listdir(directory)\n",
    "    control_sentence = \"Voici l'agenda Belga des événements belges et internationaux qui bénéficieront d'une couverture de notre part.\"\n",
    "    for txt in txt_files:\n",
    "        try:\n",
    "            with open(os.path.join(directory, txt), 'r', encoding='utf-8') as f:\n",
    "                content = f.read()\n",
    "                if control_sentence in content:\n",
    "                    os.remove(os.path.join(directory, txt))\n",
    "        except OSError:\n",
    "            print(colored(f\"Erreur lors de l'ouverture/lecture du fichier {txt}.\", 'red'))"
   ]
  },
  {
   "cell_type": "code",
   "execution_count": 4,
   "id": "853b24cc-7a29-4306-867e-c67b6ba945b7",
   "metadata": {},
   "outputs": [
    {
     "name": "stdout",
     "output_type": "stream",
     "text": [
      "\u001b[32mDossier Sources/Europresse/txt/01_2019 trié\u001b[0m\n",
      "\u001b[32mDossier Sources/Europresse/txt/02_2019 trié\u001b[0m\n",
      "\u001b[32mDossier Sources/Europresse/txt/03_2019 trié\u001b[0m\n",
      "\u001b[32mDossier Sources/Europresse/txt/04_2019 trié\u001b[0m\n",
      "\u001b[32mDossier Sources/Europresse/txt/05_2019 trié\u001b[0m\n",
      "\u001b[32mDossier Sources/Europresse/txt/06_2019 trié\u001b[0m\n",
      "\u001b[32mDossier Sources/Europresse/txt/07_2019 trié\u001b[0m\n",
      "\u001b[32mDossier Sources/Europresse/txt/08_2019 trié\u001b[0m\n",
      "\u001b[32mDossier Sources/Europresse/txt/09_2019 trié\u001b[0m\n",
      "\u001b[32mDossier Sources/Europresse/txt/10_2019 trié\u001b[0m\n",
      "\u001b[32mDossier Sources/Europresse/txt/11_2019 trié\u001b[0m\n",
      "\u001b[32mDossier Sources/Europresse/txt/12_2019 trié\u001b[0m\n",
      "\u001b[32mDossier Sources/Europresse/txt/01_2020 trié\u001b[0m\n",
      "\u001b[32mDossier Sources/Europresse/txt/02_2020 trié\u001b[0m\n",
      "\u001b[32mDossier Sources/Europresse/txt/03_2020 trié\u001b[0m\n",
      "\u001b[32mDossier Sources/Europresse/txt/04_2020 trié\u001b[0m\n",
      "\u001b[32mDossier Sources/Europresse/txt/05_2020 trié\u001b[0m\n",
      "\u001b[32mDossier Sources/Europresse/txt/06_2020 trié\u001b[0m\n",
      "\u001b[32mDossier Sources/Europresse/txt/07_2020 trié\u001b[0m\n",
      "\u001b[32mDossier Sources/Europresse/txt/08_2020 trié\u001b[0m\n",
      "\u001b[32mDossier Sources/Europresse/txt/09_2020 trié\u001b[0m\n",
      "\u001b[32mDossier Sources/Europresse/txt/10_2020 trié\u001b[0m\n",
      "\u001b[32mDossier Sources/Europresse/txt/11_2020 trié\u001b[0m\n",
      "\u001b[32mDossier Sources/Europresse/txt/12_2020 trié\u001b[0m\n",
      "\u001b[32mDossier Sources/Europresse/txt/01_2021 trié\u001b[0m\n",
      "\u001b[32mDossier Sources/Europresse/txt/02_2021 trié\u001b[0m\n",
      "\u001b[32mDossier Sources/Europresse/txt/03_2021 trié\u001b[0m\n",
      "\u001b[32mDossier Sources/Europresse/txt/04_2021 trié\u001b[0m\n",
      "\u001b[32mDossier Sources/Europresse/txt/05_2021 trié\u001b[0m\n",
      "\u001b[32mDossier Sources/Europresse/txt/06_2021 trié\u001b[0m\n",
      "\u001b[32mDossier Sources/Europresse/txt/07_2021 trié\u001b[0m\n",
      "\u001b[32mDossier Sources/Europresse/txt/08_2021 trié\u001b[0m\n",
      "\u001b[32mDossier Sources/Europresse/txt/09_2021 trié\u001b[0m\n",
      "\u001b[32mDossier Sources/Europresse/txt/10_2021 trié\u001b[0m\n",
      "\u001b[32mDossier Sources/Europresse/txt/11_2021 trié\u001b[0m\n",
      "\u001b[32mDossier Sources/Europresse/txt/12_2021 trié\u001b[0m\n",
      "\u001b[32mDossier Sources/Europresse/txt/01_2022 trié\u001b[0m\n",
      "\u001b[32mDossier Sources/Europresse/txt/02_2022 trié\u001b[0m\n",
      "\u001b[32mDossier Sources/Europresse/txt/03_2022 trié\u001b[0m\n",
      "\u001b[32mDossier Sources/Europresse/txt/04_2022 trié\u001b[0m\n",
      "\u001b[32mDossier Sources/Europresse/txt/05_2022 trié\u001b[0m\n",
      "\u001b[32mDossier Sources/Europresse/txt/06_2022 trié\u001b[0m\n",
      "\u001b[32mDossier Sources/Europresse/txt/07_2022 trié\u001b[0m\n",
      "\u001b[32mDossier Sources/Europresse/txt/08_2022 trié\u001b[0m\n",
      "\u001b[32mDossier Sources/Europresse/txt/09_2022 trié\u001b[0m\n",
      "\u001b[32mDossier Sources/Europresse/txt/10_2022 trié\u001b[0m\n",
      "\u001b[32mDossier Sources/Europresse/txt/11_2022 trié\u001b[0m\n",
      "\u001b[32mDossier Sources/Europresse/txt/12_2022 trié\u001b[0m\n",
      "\u001b[32mDossier Sources/Europresse/txt/01_2023 trié\u001b[0m\n",
      "\u001b[32mDossier Sources/Europresse/txt/02_2023 trié\u001b[0m\n",
      "\u001b[32mDossier Sources/Europresse/txt/03_2023 trié\u001b[0m\n",
      "\u001b[32mDossier Sources/Europresse/txt/04_2023 trié\u001b[0m\n",
      "\u001b[32mDossier Sources/Europresse/txt/05_2023 trié\u001b[0m\n",
      "\u001b[32mDossier Sources/Europresse/txt/06_2023 trié\u001b[0m\n",
      "\u001b[32mDossier Sources/Europresse/txt/07_2023 trié\u001b[0m\n",
      "\u001b[32mDossier Sources/Europresse/txt/08_2023 trié\u001b[0m\n",
      "\u001b[32mDossier Sources/Europresse/txt/09_2023 trié\u001b[0m\n",
      "\u001b[32mDossier Sources/Europresse/txt/10_2023 trié\u001b[0m\n",
      "\u001b[32mDossier Sources/Europresse/txt/11_2023 trié\u001b[0m\n",
      "\u001b[32mDossier Sources/Europresse/txt/12_2023 trié\u001b[0m\n",
      "\u001b[32mDossier Sources/Europresse/txt/01_2024 trié\u001b[0m\n",
      "\u001b[32mDossier Sources/Europresse/txt/02_2024 trié\u001b[0m\n",
      "\u001b[32mDossier Sources/Europresse/txt/03_2024 trié\u001b[0m\n",
      "\u001b[32mDossier Sources/Europresse/txt/04_2024 trié\u001b[0m\n",
      "\u001b[32mDossier Sources/Europresse/txt/05_2024 trié\u001b[0m\n",
      "\u001b[32mDossier Sources/Europresse/txt/06_2024 trié\u001b[0m\n",
      "\u001b[32mDossier Sources/Europresse/txt/07_2024 trié\u001b[0m\n",
      "\u001b[32mDossier Sources/Europresse/txt/08_2024 trié\u001b[0m\n",
      "\u001b[32mDossier Sources/Europresse/txt/09_2024 trié\u001b[0m\n",
      "\u001b[32mDossier Sources/Europresse/txt/10_2024 trié\u001b[0m\n",
      "\u001b[32mDossier Sources/Europresse/txt/11_2024 trié\u001b[0m\n",
      "\u001b[32mDossier Sources/Europresse/txt/12_2024 trié\u001b[0m\n"
     ]
    }
   ],
   "source": [
    "for year in range(2019, 2025) :\n",
    "    path = 'Sources/Europresse/txt/'\n",
    "    for month in range(1, 13):\n",
    "        month = str(month) if month > 9 else '0' + str(month)\n",
    "        folder = path + month + '_' + str(year)\n",
    "        clean_belga(folder)\n",
    "        print(colored(f\"Dossier {folder} trié\", 'green'))"
   ]
  },
  {
   "cell_type": "code",
   "execution_count": null,
   "id": "b4b2b966-d998-4709-8b36-a16e1cf8b391",
   "metadata": {},
   "outputs": [],
   "source": [
    "\"Voici l'agenda Belga des événements belges et internationaux qui bénéficieront d'une couverture de notre part.\""
   ]
  }
 ],
 "metadata": {
  "kernelspec": {
   "display_name": "Python [conda env:.conda-readPdf]",
   "language": "python",
   "name": "conda-env-.conda-readPdf-py"
  },
  "language_info": {
   "codemirror_mode": {
    "name": "ipython",
    "version": 3
   },
   "file_extension": ".py",
   "mimetype": "text/x-python",
   "name": "python",
   "nbconvert_exporter": "python",
   "pygments_lexer": "ipython3",
   "version": "3.13.2"
  }
 },
 "nbformat": 4,
 "nbformat_minor": 5
}
